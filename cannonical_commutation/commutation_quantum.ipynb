{
 "cells": [
  {
   "cell_type": "code",
   "execution_count": 2,
   "metadata": {},
   "outputs": [
    {
     "name": "stdout",
     "output_type": "stream",
     "text": [
      "3*I*hbar*x**4 + p*x**5 + x\n"
     ]
    },
    {
     "data": {
      "text/latex": [
       "$\\displaystyle \\Omega \\hbar n^{2} {\\left|n\\right\\rangle } + 2.5 \\Omega \\hbar n {\\left|n\\right\\rangle } + 1.5 \\Omega \\hbar {\\left|n\\right\\rangle }$"
      ],
      "text/plain": [
       "Omega*hbar*n**2*|n> + 2.5*Omega*hbar*n*|n> + 1.5*Omega*hbar*|n>"
      ]
     },
     "execution_count": 2,
     "metadata": {},
     "output_type": "execute_result"
    }
   ],
   "source": [
    "from __future__ import division\n",
    "import sys\n",
    "sys.path.insert(0, \"~/.local/lib/python3.6/site-packages\")\n",
    "\n",
    "import sympy\n",
    "from sympy import *\n",
    "from sympy.physics.quantum import *\n",
    "from apply_ccr import *\n",
    "from apply_operator import *\n",
    "\n",
    "hbar = Symbol('hbar')\n",
    "\n",
    "x = Operator('x')\n",
    "p = Operator('p')\n",
    "ccr = Eq( Commutator(x, p), I*hbar )\n",
    "\n",
    "expr = x * (x**2 * p * x**2 + 1)\n",
    "expr.expand().apply_ccr(ccr)\n",
    "# => 3iħ x^4 + p x^5 + x\n",
    "print(expr.expand().apply_ccr(ccr))\n",
    "\n",
    "H = Operator('H')\n",
    "a = Operator('a')\n",
    "ad = a.adjoint()\n",
    "n = Symbol('n')\n",
    "O = Symbol('Omega')\n",
    "\n",
    "up     = Eq( ad*Ket(n), sqrt(n+1)*Ket(n+1) )\n",
    "down   = Eq( a *Ket(n), sqrt(n)  *Ket(n-1) )\n",
    "energy = Eq( H *Ket(n), hbar*O*( n + 1/2 )*Ket(n) )\n",
    "\n",
    "expr = a * H * ad * Ket(n)\n",
    "expr.apply_operator(up, down, energy)\n",
    "# => Ωℏn^2 |n⟩ + 2.5Ωℏn |n⟩ + 1.5Ωℏ |n⟩"
   ]
  },
  {
   "cell_type": "code",
   "execution_count": null,
   "metadata": {},
   "outputs": [],
   "source": [
    "mah = "
   ]
  }
 ],
 "metadata": {
  "kernelspec": {
   "display_name": "Python 3",
   "language": "python",
   "name": "python3"
  },
  "language_info": {
   "codemirror_mode": {
    "name": "ipython",
    "version": 3
   },
   "file_extension": ".py",
   "mimetype": "text/x-python",
   "name": "python",
   "nbconvert_exporter": "python",
   "pygments_lexer": "ipython3",
   "version": "3.8.5"
  }
 },
 "nbformat": 4,
 "nbformat_minor": 4
}
